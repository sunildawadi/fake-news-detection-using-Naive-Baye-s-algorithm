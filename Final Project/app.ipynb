{
 "cells": [
  {
   "cell_type": "code",
   "execution_count": 1,
   "id": "f0c8f586",
   "metadata": {},
   "outputs": [
    {
     "name": "stderr",
     "output_type": "stream",
     "text": [
      "[nltk_data] Downloading package stopwords to\n",
      "[nltk_data]     C:\\Users\\User\\AppData\\Roaming\\nltk_data...\n",
      "[nltk_data]   Package stopwords is already up-to-date!\n"
     ]
    }
   ],
   "source": [
    "from flask import Flask, render_template, request, jsonify\n",
    "import os\n",
    "import numpy as np\n",
    "import pickle\n",
    "import nltk\n",
    "nltk.download('stopwords')\n",
    "from nltk.corpus import stopwords\n",
    "import string\n",
    "from langdetect import detect"
   ]
  },
  {
   "cell_type": "code",
   "execution_count": 2,
   "id": "a94a9685",
   "metadata": {},
   "outputs": [],
   "source": [
    "app = Flask(__name__)"
   ]
  },
  {
   "cell_type": "code",
   "execution_count": 3,
   "id": "2f4fa898",
   "metadata": {},
   "outputs": [],
   "source": [
    "# Load model\n",
    "try:\n",
    "    with open('naive_bayes_model.pkl', 'rb') as file:\n",
    "        model_train = pickle.load(file)\n",
    "except FileNotFoundError:\n",
    "    print(\"Error: unable to find the trained model file named 'naive_bayes_model.pkl'.\")\n",
    "    exit()"
   ]
  },
  {
   "cell_type": "code",
   "execution_count": 4,
   "id": "72d213c1",
   "metadata": {},
   "outputs": [],
   "source": [
    "# Load the vectorizer\n",
    "try:\n",
    "    with open('tfidf_vectorizer.pkl', 'rb') as file:\n",
    "        model_vectorizer = pickle.load(file)\n",
    "except FileNotFoundError:\n",
    "    print(\"Error: unable to find the vectorizer file named 'tfidf_vectorizer.pkl'.\")\n",
    "    exit()"
   ]
  },
  {
   "cell_type": "code",
   "execution_count": 5,
   "id": "e87b2f5a",
   "metadata": {},
   "outputs": [],
   "source": [
    "translator = str.maketrans('', '', string.punctuation)"
   ]
  },
  {
   "cell_type": "code",
   "execution_count": 6,
   "id": "bece110a",
   "metadata": {},
   "outputs": [],
   "source": [
    "def preprocess_article(article):\n",
    "    article = article.lower()\n",
    "    article = article.translate(translator)\n",
    "    stop_words = stopwords.words('english')\n",
    "    article = ' '.join([word for word in article.split() if word not in (stop_words)])\n",
    "    return article"
   ]
  },
  {
   "cell_type": "code",
   "execution_count": 7,
   "id": "201a6ea0",
   "metadata": {},
   "outputs": [],
   "source": [
    "def predict_fake_news_naive_bayes(X, prob_fake, prob_real, fake_word_probs, real_word_probs, alpha=1):\n",
    "    num_fake = 0\n",
    "    num_real = 0\n",
    "    y_pred = []\n",
    "    for i in range(X.shape[0]):\n",
    "        article = X[i, :]\n",
    "        prob_real_article = 1.0\n",
    "        prob_fake_article = 1.0\n",
    "        words = article.nonzero()[1]\n",
    "        for index in words:\n",
    "            if index in fake_word_probs:\n",
    "                prob_fake_article *= fake_word_probs[index]\n",
    "            else:\n",
    "                prob_fake_article *= alpha / (num_fake + 2 * alpha)\n",
    "            if index in real_word_probs:\n",
    "                prob_real_article *= real_word_probs[index]\n",
    "            else:\n",
    "                prob_real_article *= alpha / (num_real + 2 * alpha)\n",
    "        \n",
    "        \n",
    "        # Predict the class label of the news article\n",
    "        if prob_fake_article * prob_fake > prob_real_article * prob_real:\n",
    "            y_pred.append(1)\n",
    "        else:\n",
    "            y_pred.append(0)\n",
    "            \n",
    "        if y_pred[-1] == 1:\n",
    "            num_fake += 1\n",
    "        else:\n",
    "            num_real += 1\n",
    "            \n",
    "    return y_pred\n"
   ]
  },
  {
   "cell_type": "code",
   "execution_count": 8,
   "id": "8f36c4d0",
   "metadata": {},
   "outputs": [],
   "source": [
    "#Flask routing \n",
    "@app.route(\"/\")\n",
    "\n",
    "def home():\n",
    "    return render_template(\"Home.html\")"
   ]
  },
  {
   "cell_type": "code",
   "execution_count": 9,
   "id": "82a114fd",
   "metadata": {},
   "outputs": [],
   "source": [
    "@app.route('/predict', methods = ['POST','GET'])\n",
    "def predict_news():\n",
    "    if request.method == 'POST':\n",
    "        news = request.form['message']\n",
    "        try: \n",
    "            language = detect(news)\n",
    "            print(language)  # Output: 'en' (English)\n",
    "            if language == 'en':\n",
    "                news = preprocess_article(news)\n",
    "                vectorized_article = model_vectorizer.transform([news])\n",
    "                \n",
    "                \n",
    "                \n",
    "                prediction = predict_fake_news_naive_bayes(vectorized_article, model_train[\"prob_fake\"], model_train[\"prob_real\"], \n",
    "                                    model_train[\"fake_word_probs\"], model_train[\"real_word_probs\"])[0]\n",
    "                pred = [prediction]\n",
    "                print(pred)\n",
    "                return render_template('Home.html', prediction=pred)\n",
    "            else:\n",
    "                return render_template('Home.html', error=\"Provide a valid news\")\n",
    "            \n",
    "        except Exception as e:\n",
    "            error = str(e)\n",
    "            return render_template('Home.html', error=error)\n",
    "    else:\n",
    "        return render_template('Home.html')\n"
   ]
  },
  {
   "cell_type": "code",
   "execution_count": 10,
   "id": "d161a3eb",
   "metadata": {},
   "outputs": [
    {
     "name": "stdout",
     "output_type": "stream",
     "text": [
      " * Serving Flask app \"__main__\" (lazy loading)\n",
      " * Environment: production\n",
      "\u001b[31m   WARNING: This is a development server. Do not use it in a production deployment.\u001b[0m\n",
      "\u001b[2m   Use a production WSGI server instead.\u001b[0m\n",
      " * Debug mode: on\n"
     ]
    },
    {
     "name": "stderr",
     "output_type": "stream",
     "text": [
      " * Restarting with watchdog (windowsapi)\n"
     ]
    },
    {
     "ename": "SystemExit",
     "evalue": "1",
     "output_type": "error",
     "traceback": [
      "An exception has occurred, use %tb to see the full traceback.\n",
      "\u001b[1;31mSystemExit\u001b[0m\u001b[1;31m:\u001b[0m 1\n"
     ]
    },
    {
     "name": "stderr",
     "output_type": "stream",
     "text": [
      "C:\\Users\\User\\anaconda3\\lib\\site-packages\\IPython\\core\\interactiveshell.py:3465: UserWarning: To exit: use 'exit', 'quit', or Ctrl-D.\n",
      "  warn(\"To exit: use 'exit', 'quit', or Ctrl-D.\", stacklevel=1)\n"
     ]
    }
   ],
   "source": [
    "if __name__ == '__main__':\n",
    "    app.run(debug = True, host = '0.0.0.0', port='9014')"
   ]
  },
  {
   "cell_type": "code",
   "execution_count": null,
   "id": "42f4aff3",
   "metadata": {},
   "outputs": [],
   "source": []
  },
  {
   "cell_type": "code",
   "execution_count": null,
   "id": "7698d17c",
   "metadata": {},
   "outputs": [],
   "source": []
  },
  {
   "cell_type": "code",
   "execution_count": null,
   "id": "ad2aee0e",
   "metadata": {},
   "outputs": [],
   "source": []
  }
 ],
 "metadata": {
  "kernelspec": {
   "display_name": "Python 3 (ipykernel)",
   "language": "python",
   "name": "python3"
  },
  "language_info": {
   "codemirror_mode": {
    "name": "ipython",
    "version": 3
   },
   "file_extension": ".py",
   "mimetype": "text/x-python",
   "name": "python",
   "nbconvert_exporter": "python",
   "pygments_lexer": "ipython3",
   "version": "3.9.13"
  }
 },
 "nbformat": 4,
 "nbformat_minor": 5
}
